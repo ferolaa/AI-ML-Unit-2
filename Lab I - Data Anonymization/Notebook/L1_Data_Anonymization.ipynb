{
  "cells": [
    {
      "cell_type": "markdown",
      "metadata": {
        "id": "kb3-fEwU8Zcu"
      },
      "source": [
        "## Fairness, Accountability, Transparency and Ethics Course (FATE)\n",
        "## Universitat Pompeu Fabra (UPF)\n",
        "### Academic Year 2025-2026\n",
        "### Author: Ashwin Singh (ashwin.singh01@estudiant.upf.edu)\n",
        "*** Partially based on the original exercises made by David Solans (david.solans@upf.edu) ***\n",
        "\n",
        "Submission date: 03/02/2025 at 23:59 on Aula Global\n",
        "\n",
        "Please work on this notebook **individually**."
      ]
    },
    {
      "cell_type": "markdown",
      "metadata": {
        "id": "tiNB9MXw8Zcw"
      },
      "source": [
        "# LAB 1: Data anonymization with Python"
      ]
    },
    {
      "cell_type": "markdown",
      "metadata": {
        "id": "LwcB-eoBS36Z"
      },
      "source": [
        "# Getting Started"
      ]
    },
    {
      "cell_type": "markdown",
      "metadata": {
        "id": "_UArlWD58Zcx"
      },
      "source": [
        "## Imports"
      ]
    },
    {
      "cell_type": "code",
      "execution_count": 1,
      "metadata": {
        "id": "Xojx0A5Q8Zcy"
      },
      "outputs": [],
      "source": [
        "from sklearn.preprocessing import MinMaxScaler\n",
        "from sklearn.metrics import mean_squared_error\n",
        "from sklearn.mixture import GaussianMixture\n",
        "from sklearn.cluster import KMeans\n",
        "from scipy.stats import pearsonr\n",
        "\n",
        "import matplotlib.pyplot as plt\n",
        "import seaborn as sns\n",
        "import pandas as pd\n",
        "import numpy as np\n",
        "import random"
      ]
    },
    {
      "cell_type": "code",
      "execution_count": 2,
      "metadata": {
        "id": "k2MkPSvbSf0f"
      },
      "outputs": [],
      "source": [
        "import warnings\n",
        "\n",
        "warnings.filterwarnings(action=\"ignore\")"
      ]
    },
    {
      "cell_type": "markdown",
      "metadata": {
        "id": "yyEsipXz8Zcy"
      },
      "source": [
        "## Loading Dataset\n",
        "In this section we will use a synthetic dataset containing medical records of 100 users."
      ]
    },
    {
      "cell_type": "code",
      "execution_count": 3,
      "metadata": {
        "colab": {
          "base_uri": "https://localhost:8080/",
          "height": 242
        },
        "id": "a4CmA4DH8Zcy",
        "outputId": "d8894b58-28f4-41fb-db9a-a4a22d91827b"
      },
      "outputs": [
        {
          "output_type": "execute_result",
          "data": {
            "text/plain": [
              "                 PatientName          SSN  PatientID            Phone  Gender  \\\n",
              "0              Pablo de Cobo  412-92-6881       1000  +34 738 644 211    Male   \n",
              "1     Fabio Menendez Velasco  265-27-3243       1001     +34742032426    Male   \n",
              "2  Flavia Cabañas Cabanillas  554-97-8002       1002     +34712747631  Female   \n",
              "3    Eliana Vendrell-Vilalta  990-49-6929       1003  +34 712 466 137  Female   \n",
              "4            César Mas Silva  833-83-9451       1004  +34716 22 73 14    Male   \n",
              "\n",
              "   BirthDate  ZipCode     Health Condition  Weight  Height  \n",
              "0   20011009     8003             Bird flu      80     184  \n",
              "1   20010110     8003             Bird flu      79     179  \n",
              "2   20010101     8014             Bird flu      67     172  \n",
              "3   20001009     8002  Common cold and flu      93     184  \n",
              "4   20000101     8002  Common cold and flu      66     171  "
            ],
            "text/html": [
              "\n",
              "  <div id=\"df-ba5c680c-7fbe-4dda-aa6c-b88ba05d7b41\" class=\"colab-df-container\">\n",
              "    <div>\n",
              "<style scoped>\n",
              "    .dataframe tbody tr th:only-of-type {\n",
              "        vertical-align: middle;\n",
              "    }\n",
              "\n",
              "    .dataframe tbody tr th {\n",
              "        vertical-align: top;\n",
              "    }\n",
              "\n",
              "    .dataframe thead th {\n",
              "        text-align: right;\n",
              "    }\n",
              "</style>\n",
              "<table border=\"1\" class=\"dataframe\">\n",
              "  <thead>\n",
              "    <tr style=\"text-align: right;\">\n",
              "      <th></th>\n",
              "      <th>PatientName</th>\n",
              "      <th>SSN</th>\n",
              "      <th>PatientID</th>\n",
              "      <th>Phone</th>\n",
              "      <th>Gender</th>\n",
              "      <th>BirthDate</th>\n",
              "      <th>ZipCode</th>\n",
              "      <th>Health Condition</th>\n",
              "      <th>Weight</th>\n",
              "      <th>Height</th>\n",
              "    </tr>\n",
              "  </thead>\n",
              "  <tbody>\n",
              "    <tr>\n",
              "      <th>0</th>\n",
              "      <td>Pablo de Cobo</td>\n",
              "      <td>412-92-6881</td>\n",
              "      <td>1000</td>\n",
              "      <td>+34 738 644 211</td>\n",
              "      <td>Male</td>\n",
              "      <td>20011009</td>\n",
              "      <td>8003</td>\n",
              "      <td>Bird flu</td>\n",
              "      <td>80</td>\n",
              "      <td>184</td>\n",
              "    </tr>\n",
              "    <tr>\n",
              "      <th>1</th>\n",
              "      <td>Fabio Menendez Velasco</td>\n",
              "      <td>265-27-3243</td>\n",
              "      <td>1001</td>\n",
              "      <td>+34742032426</td>\n",
              "      <td>Male</td>\n",
              "      <td>20010110</td>\n",
              "      <td>8003</td>\n",
              "      <td>Bird flu</td>\n",
              "      <td>79</td>\n",
              "      <td>179</td>\n",
              "    </tr>\n",
              "    <tr>\n",
              "      <th>2</th>\n",
              "      <td>Flavia Cabañas Cabanillas</td>\n",
              "      <td>554-97-8002</td>\n",
              "      <td>1002</td>\n",
              "      <td>+34712747631</td>\n",
              "      <td>Female</td>\n",
              "      <td>20010101</td>\n",
              "      <td>8014</td>\n",
              "      <td>Bird flu</td>\n",
              "      <td>67</td>\n",
              "      <td>172</td>\n",
              "    </tr>\n",
              "    <tr>\n",
              "      <th>3</th>\n",
              "      <td>Eliana Vendrell-Vilalta</td>\n",
              "      <td>990-49-6929</td>\n",
              "      <td>1003</td>\n",
              "      <td>+34 712 466 137</td>\n",
              "      <td>Female</td>\n",
              "      <td>20001009</td>\n",
              "      <td>8002</td>\n",
              "      <td>Common cold and flu</td>\n",
              "      <td>93</td>\n",
              "      <td>184</td>\n",
              "    </tr>\n",
              "    <tr>\n",
              "      <th>4</th>\n",
              "      <td>César Mas Silva</td>\n",
              "      <td>833-83-9451</td>\n",
              "      <td>1004</td>\n",
              "      <td>+34716 22 73 14</td>\n",
              "      <td>Male</td>\n",
              "      <td>20000101</td>\n",
              "      <td>8002</td>\n",
              "      <td>Common cold and flu</td>\n",
              "      <td>66</td>\n",
              "      <td>171</td>\n",
              "    </tr>\n",
              "  </tbody>\n",
              "</table>\n",
              "</div>\n",
              "    <div class=\"colab-df-buttons\">\n",
              "\n",
              "  <div class=\"colab-df-container\">\n",
              "    <button class=\"colab-df-convert\" onclick=\"convertToInteractive('df-ba5c680c-7fbe-4dda-aa6c-b88ba05d7b41')\"\n",
              "            title=\"Convert this dataframe to an interactive table.\"\n",
              "            style=\"display:none;\">\n",
              "\n",
              "  <svg xmlns=\"http://www.w3.org/2000/svg\" height=\"24px\" viewBox=\"0 -960 960 960\">\n",
              "    <path d=\"M120-120v-720h720v720H120Zm60-500h600v-160H180v160Zm220 220h160v-160H400v160Zm0 220h160v-160H400v160ZM180-400h160v-160H180v160Zm440 0h160v-160H620v160ZM180-180h160v-160H180v160Zm440 0h160v-160H620v160Z\"/>\n",
              "  </svg>\n",
              "    </button>\n",
              "\n",
              "  <style>\n",
              "    .colab-df-container {\n",
              "      display:flex;\n",
              "      gap: 12px;\n",
              "    }\n",
              "\n",
              "    .colab-df-convert {\n",
              "      background-color: #E8F0FE;\n",
              "      border: none;\n",
              "      border-radius: 50%;\n",
              "      cursor: pointer;\n",
              "      display: none;\n",
              "      fill: #1967D2;\n",
              "      height: 32px;\n",
              "      padding: 0 0 0 0;\n",
              "      width: 32px;\n",
              "    }\n",
              "\n",
              "    .colab-df-convert:hover {\n",
              "      background-color: #E2EBFA;\n",
              "      box-shadow: 0px 1px 2px rgba(60, 64, 67, 0.3), 0px 1px 3px 1px rgba(60, 64, 67, 0.15);\n",
              "      fill: #174EA6;\n",
              "    }\n",
              "\n",
              "    .colab-df-buttons div {\n",
              "      margin-bottom: 4px;\n",
              "    }\n",
              "\n",
              "    [theme=dark] .colab-df-convert {\n",
              "      background-color: #3B4455;\n",
              "      fill: #D2E3FC;\n",
              "    }\n",
              "\n",
              "    [theme=dark] .colab-df-convert:hover {\n",
              "      background-color: #434B5C;\n",
              "      box-shadow: 0px 1px 3px 1px rgba(0, 0, 0, 0.15);\n",
              "      filter: drop-shadow(0px 1px 2px rgba(0, 0, 0, 0.3));\n",
              "      fill: #FFFFFF;\n",
              "    }\n",
              "  </style>\n",
              "\n",
              "    <script>\n",
              "      const buttonEl =\n",
              "        document.querySelector('#df-ba5c680c-7fbe-4dda-aa6c-b88ba05d7b41 button.colab-df-convert');\n",
              "      buttonEl.style.display =\n",
              "        google.colab.kernel.accessAllowed ? 'block' : 'none';\n",
              "\n",
              "      async function convertToInteractive(key) {\n",
              "        const element = document.querySelector('#df-ba5c680c-7fbe-4dda-aa6c-b88ba05d7b41');\n",
              "        const dataTable =\n",
              "          await google.colab.kernel.invokeFunction('convertToInteractive',\n",
              "                                                    [key], {});\n",
              "        if (!dataTable) return;\n",
              "\n",
              "        const docLinkHtml = 'Like what you see? Visit the ' +\n",
              "          '<a target=\"_blank\" href=https://colab.research.google.com/notebooks/data_table.ipynb>data table notebook</a>'\n",
              "          + ' to learn more about interactive tables.';\n",
              "        element.innerHTML = '';\n",
              "        dataTable['output_type'] = 'display_data';\n",
              "        await google.colab.output.renderOutput(dataTable, element);\n",
              "        const docLink = document.createElement('div');\n",
              "        docLink.innerHTML = docLinkHtml;\n",
              "        element.appendChild(docLink);\n",
              "      }\n",
              "    </script>\n",
              "  </div>\n",
              "\n",
              "\n",
              "<div id=\"df-62600a92-beac-4bd6-8441-0252327b5c74\">\n",
              "  <button class=\"colab-df-quickchart\" onclick=\"quickchart('df-62600a92-beac-4bd6-8441-0252327b5c74')\"\n",
              "            title=\"Suggest charts\"\n",
              "            style=\"display:none;\">\n",
              "\n",
              "<svg xmlns=\"http://www.w3.org/2000/svg\" height=\"24px\"viewBox=\"0 0 24 24\"\n",
              "     width=\"24px\">\n",
              "    <g>\n",
              "        <path d=\"M19 3H5c-1.1 0-2 .9-2 2v14c0 1.1.9 2 2 2h14c1.1 0 2-.9 2-2V5c0-1.1-.9-2-2-2zM9 17H7v-7h2v7zm4 0h-2V7h2v10zm4 0h-2v-4h2v4z\"/>\n",
              "    </g>\n",
              "</svg>\n",
              "  </button>\n",
              "\n",
              "<style>\n",
              "  .colab-df-quickchart {\n",
              "      --bg-color: #E8F0FE;\n",
              "      --fill-color: #1967D2;\n",
              "      --hover-bg-color: #E2EBFA;\n",
              "      --hover-fill-color: #174EA6;\n",
              "      --disabled-fill-color: #AAA;\n",
              "      --disabled-bg-color: #DDD;\n",
              "  }\n",
              "\n",
              "  [theme=dark] .colab-df-quickchart {\n",
              "      --bg-color: #3B4455;\n",
              "      --fill-color: #D2E3FC;\n",
              "      --hover-bg-color: #434B5C;\n",
              "      --hover-fill-color: #FFFFFF;\n",
              "      --disabled-bg-color: #3B4455;\n",
              "      --disabled-fill-color: #666;\n",
              "  }\n",
              "\n",
              "  .colab-df-quickchart {\n",
              "    background-color: var(--bg-color);\n",
              "    border: none;\n",
              "    border-radius: 50%;\n",
              "    cursor: pointer;\n",
              "    display: none;\n",
              "    fill: var(--fill-color);\n",
              "    height: 32px;\n",
              "    padding: 0;\n",
              "    width: 32px;\n",
              "  }\n",
              "\n",
              "  .colab-df-quickchart:hover {\n",
              "    background-color: var(--hover-bg-color);\n",
              "    box-shadow: 0 1px 2px rgba(60, 64, 67, 0.3), 0 1px 3px 1px rgba(60, 64, 67, 0.15);\n",
              "    fill: var(--button-hover-fill-color);\n",
              "  }\n",
              "\n",
              "  .colab-df-quickchart-complete:disabled,\n",
              "  .colab-df-quickchart-complete:disabled:hover {\n",
              "    background-color: var(--disabled-bg-color);\n",
              "    fill: var(--disabled-fill-color);\n",
              "    box-shadow: none;\n",
              "  }\n",
              "\n",
              "  .colab-df-spinner {\n",
              "    border: 2px solid var(--fill-color);\n",
              "    border-color: transparent;\n",
              "    border-bottom-color: var(--fill-color);\n",
              "    animation:\n",
              "      spin 1s steps(1) infinite;\n",
              "  }\n",
              "\n",
              "  @keyframes spin {\n",
              "    0% {\n",
              "      border-color: transparent;\n",
              "      border-bottom-color: var(--fill-color);\n",
              "      border-left-color: var(--fill-color);\n",
              "    }\n",
              "    20% {\n",
              "      border-color: transparent;\n",
              "      border-left-color: var(--fill-color);\n",
              "      border-top-color: var(--fill-color);\n",
              "    }\n",
              "    30% {\n",
              "      border-color: transparent;\n",
              "      border-left-color: var(--fill-color);\n",
              "      border-top-color: var(--fill-color);\n",
              "      border-right-color: var(--fill-color);\n",
              "    }\n",
              "    40% {\n",
              "      border-color: transparent;\n",
              "      border-right-color: var(--fill-color);\n",
              "      border-top-color: var(--fill-color);\n",
              "    }\n",
              "    60% {\n",
              "      border-color: transparent;\n",
              "      border-right-color: var(--fill-color);\n",
              "    }\n",
              "    80% {\n",
              "      border-color: transparent;\n",
              "      border-right-color: var(--fill-color);\n",
              "      border-bottom-color: var(--fill-color);\n",
              "    }\n",
              "    90% {\n",
              "      border-color: transparent;\n",
              "      border-bottom-color: var(--fill-color);\n",
              "    }\n",
              "  }\n",
              "</style>\n",
              "\n",
              "  <script>\n",
              "    async function quickchart(key) {\n",
              "      const quickchartButtonEl =\n",
              "        document.querySelector('#' + key + ' button');\n",
              "      quickchartButtonEl.disabled = true;  // To prevent multiple clicks.\n",
              "      quickchartButtonEl.classList.add('colab-df-spinner');\n",
              "      try {\n",
              "        const charts = await google.colab.kernel.invokeFunction(\n",
              "            'suggestCharts', [key], {});\n",
              "      } catch (error) {\n",
              "        console.error('Error during call to suggestCharts:', error);\n",
              "      }\n",
              "      quickchartButtonEl.classList.remove('colab-df-spinner');\n",
              "      quickchartButtonEl.classList.add('colab-df-quickchart-complete');\n",
              "    }\n",
              "    (() => {\n",
              "      let quickchartButtonEl =\n",
              "        document.querySelector('#df-62600a92-beac-4bd6-8441-0252327b5c74 button');\n",
              "      quickchartButtonEl.style.display =\n",
              "        google.colab.kernel.accessAllowed ? 'block' : 'none';\n",
              "    })();\n",
              "  </script>\n",
              "</div>\n",
              "\n",
              "    </div>\n",
              "  </div>\n"
            ],
            "application/vnd.google.colaboratory.intrinsic+json": {
              "type": "dataframe",
              "variable_name": "health_data",
              "summary": "{\n  \"name\": \"health_data\",\n  \"rows\": 100,\n  \"fields\": [\n    {\n      \"column\": \"PatientName\",\n      \"properties\": {\n        \"dtype\": \"string\",\n        \"num_unique_values\": 100,\n        \"samples\": [\n          \"Lupita Mercader Falc\\u00f3n\",\n          \"Ainoa B\\u00e1ez Nu\\u00f1ez\",\n          \"Zaida de Pera\"\n        ],\n        \"semantic_type\": \"\",\n        \"description\": \"\"\n      }\n    },\n    {\n      \"column\": \"SSN\",\n      \"properties\": {\n        \"dtype\": \"string\",\n        \"num_unique_values\": 100,\n        \"samples\": [\n          \"261-19-9827\",\n          \"519-44-2272\",\n          \"462-13-4733\"\n        ],\n        \"semantic_type\": \"\",\n        \"description\": \"\"\n      }\n    },\n    {\n      \"column\": \"PatientID\",\n      \"properties\": {\n        \"dtype\": \"number\",\n        \"std\": 29,\n        \"min\": 1000,\n        \"max\": 1099,\n        \"num_unique_values\": 100,\n        \"samples\": [\n          1083,\n          1053,\n          1070\n        ],\n        \"semantic_type\": \"\",\n        \"description\": \"\"\n      }\n    },\n    {\n      \"column\": \"Phone\",\n      \"properties\": {\n        \"dtype\": \"string\",\n        \"num_unique_values\": 100,\n        \"samples\": [\n          \"+34 919670475\",\n          \"+34742 813 417\",\n          \"+34727 71 20 69\"\n        ],\n        \"semantic_type\": \"\",\n        \"description\": \"\"\n      }\n    },\n    {\n      \"column\": \"Gender\",\n      \"properties\": {\n        \"dtype\": \"category\",\n        \"num_unique_values\": 2,\n        \"samples\": [\n          \"Female\",\n          \"Male\"\n        ],\n        \"semantic_type\": \"\",\n        \"description\": \"\"\n      }\n    },\n    {\n      \"column\": \"BirthDate\",\n      \"properties\": {\n        \"dtype\": \"number\",\n        \"std\": 4952,\n        \"min\": 20000101,\n        \"max\": 20011011,\n        \"num_unique_values\": 16,\n        \"samples\": [\n          20011009,\n          20010110\n        ],\n        \"semantic_type\": \"\",\n        \"description\": \"\"\n      }\n    },\n    {\n      \"column\": \"ZipCode\",\n      \"properties\": {\n        \"dtype\": \"number\",\n        \"std\": 5,\n        \"min\": 8001,\n        \"max\": 8014,\n        \"num_unique_values\": 8,\n        \"samples\": [\n          8014,\n          8012\n        ],\n        \"semantic_type\": \"\",\n        \"description\": \"\"\n      }\n    },\n    {\n      \"column\": \"Health Condition\",\n      \"properties\": {\n        \"dtype\": \"category\",\n        \"num_unique_values\": 4,\n        \"samples\": [\n          \"Common cold and flu\",\n          \"Asthma\"\n        ],\n        \"semantic_type\": \"\",\n        \"description\": \"\"\n      }\n    },\n    {\n      \"column\": \"Weight\",\n      \"properties\": {\n        \"dtype\": \"number\",\n        \"std\": 11,\n        \"min\": 55,\n        \"max\": 95,\n        \"num_unique_values\": 40,\n        \"samples\": [\n          84,\n          68\n        ],\n        \"semantic_type\": \"\",\n        \"description\": \"\"\n      }\n    },\n    {\n      \"column\": \"Height\",\n      \"properties\": {\n        \"dtype\": \"number\",\n        \"std\": 9,\n        \"min\": 150,\n        \"max\": 196,\n        \"num_unique_values\": 41,\n        \"samples\": [\n          163,\n          185\n        ],\n        \"semantic_type\": \"\",\n        \"description\": \"\"\n      }\n    }\n  ]\n}"
            }
          },
          "metadata": {},
          "execution_count": 3
        }
      ],
      "source": [
        "dataset_url = \"https://raw.githubusercontent.com/Ashwin-19/UPF-FATE-2025/refs/heads/main/Lab%20I%20-%20Data%20Anonymization/Data/health_dataset.csv\"\n",
        "health_data = pd.read_csv(dataset_url)\n",
        "health_data.head()"
      ]
    },
    {
      "cell_type": "markdown",
      "metadata": {
        "id": "ClpzpwIw8Zcz"
      },
      "source": [
        "## Types of Identifiers and Attributes [ 1 pts ]\n",
        "\n"
      ]
    },
    {
      "cell_type": "markdown",
      "metadata": {
        "id": "qYXzYQTM8Zcz"
      },
      "source": [
        "**[ 0.5 pts ]** List the identifiers and quasi-identifiers in the dataset:"
      ]
    },
    {
      "cell_type": "markdown",
      "metadata": {
        "id": "y3VbkFmf8Zcz"
      },
      "source": [
        "**[ Answer ]**\n",
        "Identifiers are:\n",
        "\n",
        "PatientName,\n",
        "SSN,\n",
        "PatientID,\n",
        "Phone\n",
        "Quasi-identifier are :\n",
        "\n",
        "Gender,\n",
        "BirthDate,\n",
        "ZipCode,\n",
        "Weight,\n",
        "Height"
      ]
    },
    {
      "cell_type": "markdown",
      "metadata": {
        "id": "Km-uMIbH8Zcz"
      },
      "source": [
        "**[ 0.5 pts ]** List the confidential attributes in the dataset."
      ]
    },
    {
      "cell_type": "markdown",
      "metadata": {
        "id": "2Kp2l9vo8Zcz"
      },
      "source": [
        "**[ Answer ]**\n",
        "The confidential attributes:\n",
        "Health Condition,\n",
        "SSN"
      ]
    },
    {
      "cell_type": "markdown",
      "metadata": {
        "id": "7-05-LXe8Zcz"
      },
      "source": [
        "## Data Filtering [ 0.5 pts ]"
      ]
    },
    {
      "cell_type": "markdown",
      "metadata": {
        "id": "lVrgR_1a8Zc0"
      },
      "source": [
        "**[ 0.5 pts ]** Remove/Suppress the columns including personally identifiable information from the dataset.\n",
        "\n",
        "**[ Discuss ]** Why do we remove/supress them?"
      ]
    },
    {
      "cell_type": "code",
      "execution_count": 5,
      "metadata": {
        "id": "LPYQYtNM8Zc0",
        "outputId": "e93f6a4a-5d61-426b-b428-f9cf0fa1e817",
        "colab": {
          "base_uri": "https://localhost:8080/",
          "height": 204
        }
      },
      "outputs": [
        {
          "output_type": "execute_result",
          "data": {
            "text/plain": [
              "                 PatientName          SSN  PatientID            Phone\n",
              "0              Pablo de Cobo  412-92-6881       1000  +34 738 644 211\n",
              "1     Fabio Menendez Velasco  265-27-3243       1001     +34742032426\n",
              "2  Flavia Cabañas Cabanillas  554-97-8002       1002     +34712747631\n",
              "3    Eliana Vendrell-Vilalta  990-49-6929       1003  +34 712 466 137\n",
              "4            César Mas Silva  833-83-9451       1004  +34716 22 73 14"
            ],
            "text/html": [
              "\n",
              "  <div id=\"df-0762227d-b2d1-497a-af2c-ac5689a869cc\" class=\"colab-df-container\">\n",
              "    <div>\n",
              "<style scoped>\n",
              "    .dataframe tbody tr th:only-of-type {\n",
              "        vertical-align: middle;\n",
              "    }\n",
              "\n",
              "    .dataframe tbody tr th {\n",
              "        vertical-align: top;\n",
              "    }\n",
              "\n",
              "    .dataframe thead th {\n",
              "        text-align: right;\n",
              "    }\n",
              "</style>\n",
              "<table border=\"1\" class=\"dataframe\">\n",
              "  <thead>\n",
              "    <tr style=\"text-align: right;\">\n",
              "      <th></th>\n",
              "      <th>PatientName</th>\n",
              "      <th>SSN</th>\n",
              "      <th>PatientID</th>\n",
              "      <th>Phone</th>\n",
              "    </tr>\n",
              "  </thead>\n",
              "  <tbody>\n",
              "    <tr>\n",
              "      <th>0</th>\n",
              "      <td>Pablo de Cobo</td>\n",
              "      <td>412-92-6881</td>\n",
              "      <td>1000</td>\n",
              "      <td>+34 738 644 211</td>\n",
              "    </tr>\n",
              "    <tr>\n",
              "      <th>1</th>\n",
              "      <td>Fabio Menendez Velasco</td>\n",
              "      <td>265-27-3243</td>\n",
              "      <td>1001</td>\n",
              "      <td>+34742032426</td>\n",
              "    </tr>\n",
              "    <tr>\n",
              "      <th>2</th>\n",
              "      <td>Flavia Cabañas Cabanillas</td>\n",
              "      <td>554-97-8002</td>\n",
              "      <td>1002</td>\n",
              "      <td>+34712747631</td>\n",
              "    </tr>\n",
              "    <tr>\n",
              "      <th>3</th>\n",
              "      <td>Eliana Vendrell-Vilalta</td>\n",
              "      <td>990-49-6929</td>\n",
              "      <td>1003</td>\n",
              "      <td>+34 712 466 137</td>\n",
              "    </tr>\n",
              "    <tr>\n",
              "      <th>4</th>\n",
              "      <td>César Mas Silva</td>\n",
              "      <td>833-83-9451</td>\n",
              "      <td>1004</td>\n",
              "      <td>+34716 22 73 14</td>\n",
              "    </tr>\n",
              "  </tbody>\n",
              "</table>\n",
              "</div>\n",
              "    <div class=\"colab-df-buttons\">\n",
              "\n",
              "  <div class=\"colab-df-container\">\n",
              "    <button class=\"colab-df-convert\" onclick=\"convertToInteractive('df-0762227d-b2d1-497a-af2c-ac5689a869cc')\"\n",
              "            title=\"Convert this dataframe to an interactive table.\"\n",
              "            style=\"display:none;\">\n",
              "\n",
              "  <svg xmlns=\"http://www.w3.org/2000/svg\" height=\"24px\" viewBox=\"0 -960 960 960\">\n",
              "    <path d=\"M120-120v-720h720v720H120Zm60-500h600v-160H180v160Zm220 220h160v-160H400v160Zm0 220h160v-160H400v160ZM180-400h160v-160H180v160Zm440 0h160v-160H620v160ZM180-180h160v-160H180v160Zm440 0h160v-160H620v160Z\"/>\n",
              "  </svg>\n",
              "    </button>\n",
              "\n",
              "  <style>\n",
              "    .colab-df-container {\n",
              "      display:flex;\n",
              "      gap: 12px;\n",
              "    }\n",
              "\n",
              "    .colab-df-convert {\n",
              "      background-color: #E8F0FE;\n",
              "      border: none;\n",
              "      border-radius: 50%;\n",
              "      cursor: pointer;\n",
              "      display: none;\n",
              "      fill: #1967D2;\n",
              "      height: 32px;\n",
              "      padding: 0 0 0 0;\n",
              "      width: 32px;\n",
              "    }\n",
              "\n",
              "    .colab-df-convert:hover {\n",
              "      background-color: #E2EBFA;\n",
              "      box-shadow: 0px 1px 2px rgba(60, 64, 67, 0.3), 0px 1px 3px 1px rgba(60, 64, 67, 0.15);\n",
              "      fill: #174EA6;\n",
              "    }\n",
              "\n",
              "    .colab-df-buttons div {\n",
              "      margin-bottom: 4px;\n",
              "    }\n",
              "\n",
              "    [theme=dark] .colab-df-convert {\n",
              "      background-color: #3B4455;\n",
              "      fill: #D2E3FC;\n",
              "    }\n",
              "\n",
              "    [theme=dark] .colab-df-convert:hover {\n",
              "      background-color: #434B5C;\n",
              "      box-shadow: 0px 1px 3px 1px rgba(0, 0, 0, 0.15);\n",
              "      filter: drop-shadow(0px 1px 2px rgba(0, 0, 0, 0.3));\n",
              "      fill: #FFFFFF;\n",
              "    }\n",
              "  </style>\n",
              "\n",
              "    <script>\n",
              "      const buttonEl =\n",
              "        document.querySelector('#df-0762227d-b2d1-497a-af2c-ac5689a869cc button.colab-df-convert');\n",
              "      buttonEl.style.display =\n",
              "        google.colab.kernel.accessAllowed ? 'block' : 'none';\n",
              "\n",
              "      async function convertToInteractive(key) {\n",
              "        const element = document.querySelector('#df-0762227d-b2d1-497a-af2c-ac5689a869cc');\n",
              "        const dataTable =\n",
              "          await google.colab.kernel.invokeFunction('convertToInteractive',\n",
              "                                                    [key], {});\n",
              "        if (!dataTable) return;\n",
              "\n",
              "        const docLinkHtml = 'Like what you see? Visit the ' +\n",
              "          '<a target=\"_blank\" href=https://colab.research.google.com/notebooks/data_table.ipynb>data table notebook</a>'\n",
              "          + ' to learn more about interactive tables.';\n",
              "        element.innerHTML = '';\n",
              "        dataTable['output_type'] = 'display_data';\n",
              "        await google.colab.output.renderOutput(dataTable, element);\n",
              "        const docLink = document.createElement('div');\n",
              "        docLink.innerHTML = docLinkHtml;\n",
              "        element.appendChild(docLink);\n",
              "      }\n",
              "    </script>\n",
              "  </div>\n",
              "\n",
              "\n",
              "<div id=\"df-5110b2f4-a5c5-453b-b9f2-4bebaeed2f73\">\n",
              "  <button class=\"colab-df-quickchart\" onclick=\"quickchart('df-5110b2f4-a5c5-453b-b9f2-4bebaeed2f73')\"\n",
              "            title=\"Suggest charts\"\n",
              "            style=\"display:none;\">\n",
              "\n",
              "<svg xmlns=\"http://www.w3.org/2000/svg\" height=\"24px\"viewBox=\"0 0 24 24\"\n",
              "     width=\"24px\">\n",
              "    <g>\n",
              "        <path d=\"M19 3H5c-1.1 0-2 .9-2 2v14c0 1.1.9 2 2 2h14c1.1 0 2-.9 2-2V5c0-1.1-.9-2-2-2zM9 17H7v-7h2v7zm4 0h-2V7h2v10zm4 0h-2v-4h2v4z\"/>\n",
              "    </g>\n",
              "</svg>\n",
              "  </button>\n",
              "\n",
              "<style>\n",
              "  .colab-df-quickchart {\n",
              "      --bg-color: #E8F0FE;\n",
              "      --fill-color: #1967D2;\n",
              "      --hover-bg-color: #E2EBFA;\n",
              "      --hover-fill-color: #174EA6;\n",
              "      --disabled-fill-color: #AAA;\n",
              "      --disabled-bg-color: #DDD;\n",
              "  }\n",
              "\n",
              "  [theme=dark] .colab-df-quickchart {\n",
              "      --bg-color: #3B4455;\n",
              "      --fill-color: #D2E3FC;\n",
              "      --hover-bg-color: #434B5C;\n",
              "      --hover-fill-color: #FFFFFF;\n",
              "      --disabled-bg-color: #3B4455;\n",
              "      --disabled-fill-color: #666;\n",
              "  }\n",
              "\n",
              "  .colab-df-quickchart {\n",
              "    background-color: var(--bg-color);\n",
              "    border: none;\n",
              "    border-radius: 50%;\n",
              "    cursor: pointer;\n",
              "    display: none;\n",
              "    fill: var(--fill-color);\n",
              "    height: 32px;\n",
              "    padding: 0;\n",
              "    width: 32px;\n",
              "  }\n",
              "\n",
              "  .colab-df-quickchart:hover {\n",
              "    background-color: var(--hover-bg-color);\n",
              "    box-shadow: 0 1px 2px rgba(60, 64, 67, 0.3), 0 1px 3px 1px rgba(60, 64, 67, 0.15);\n",
              "    fill: var(--button-hover-fill-color);\n",
              "  }\n",
              "\n",
              "  .colab-df-quickchart-complete:disabled,\n",
              "  .colab-df-quickchart-complete:disabled:hover {\n",
              "    background-color: var(--disabled-bg-color);\n",
              "    fill: var(--disabled-fill-color);\n",
              "    box-shadow: none;\n",
              "  }\n",
              "\n",
              "  .colab-df-spinner {\n",
              "    border: 2px solid var(--fill-color);\n",
              "    border-color: transparent;\n",
              "    border-bottom-color: var(--fill-color);\n",
              "    animation:\n",
              "      spin 1s steps(1) infinite;\n",
              "  }\n",
              "\n",
              "  @keyframes spin {\n",
              "    0% {\n",
              "      border-color: transparent;\n",
              "      border-bottom-color: var(--fill-color);\n",
              "      border-left-color: var(--fill-color);\n",
              "    }\n",
              "    20% {\n",
              "      border-color: transparent;\n",
              "      border-left-color: var(--fill-color);\n",
              "      border-top-color: var(--fill-color);\n",
              "    }\n",
              "    30% {\n",
              "      border-color: transparent;\n",
              "      border-left-color: var(--fill-color);\n",
              "      border-top-color: var(--fill-color);\n",
              "      border-right-color: var(--fill-color);\n",
              "    }\n",
              "    40% {\n",
              "      border-color: transparent;\n",
              "      border-right-color: var(--fill-color);\n",
              "      border-top-color: var(--fill-color);\n",
              "    }\n",
              "    60% {\n",
              "      border-color: transparent;\n",
              "      border-right-color: var(--fill-color);\n",
              "    }\n",
              "    80% {\n",
              "      border-color: transparent;\n",
              "      border-right-color: var(--fill-color);\n",
              "      border-bottom-color: var(--fill-color);\n",
              "    }\n",
              "    90% {\n",
              "      border-color: transparent;\n",
              "      border-bottom-color: var(--fill-color);\n",
              "    }\n",
              "  }\n",
              "</style>\n",
              "\n",
              "  <script>\n",
              "    async function quickchart(key) {\n",
              "      const quickchartButtonEl =\n",
              "        document.querySelector('#' + key + ' button');\n",
              "      quickchartButtonEl.disabled = true;  // To prevent multiple clicks.\n",
              "      quickchartButtonEl.classList.add('colab-df-spinner');\n",
              "      try {\n",
              "        const charts = await google.colab.kernel.invokeFunction(\n",
              "            'suggestCharts', [key], {});\n",
              "      } catch (error) {\n",
              "        console.error('Error during call to suggestCharts:', error);\n",
              "      }\n",
              "      quickchartButtonEl.classList.remove('colab-df-spinner');\n",
              "      quickchartButtonEl.classList.add('colab-df-quickchart-complete');\n",
              "    }\n",
              "    (() => {\n",
              "      let quickchartButtonEl =\n",
              "        document.querySelector('#df-5110b2f4-a5c5-453b-b9f2-4bebaeed2f73 button');\n",
              "      quickchartButtonEl.style.display =\n",
              "        google.colab.kernel.accessAllowed ? 'block' : 'none';\n",
              "    })();\n",
              "  </script>\n",
              "</div>\n",
              "\n",
              "    </div>\n",
              "  </div>\n"
            ],
            "application/vnd.google.colaboratory.intrinsic+json": {
              "type": "dataframe",
              "variable_name": "health_data",
              "summary": "{\n  \"name\": \"health_data\",\n  \"rows\": 100,\n  \"fields\": [\n    {\n      \"column\": \"PatientName\",\n      \"properties\": {\n        \"dtype\": \"string\",\n        \"num_unique_values\": 100,\n        \"samples\": [\n          \"Lupita Mercader Falc\\u00f3n\",\n          \"Ainoa B\\u00e1ez Nu\\u00f1ez\",\n          \"Zaida de Pera\"\n        ],\n        \"semantic_type\": \"\",\n        \"description\": \"\"\n      }\n    },\n    {\n      \"column\": \"SSN\",\n      \"properties\": {\n        \"dtype\": \"string\",\n        \"num_unique_values\": 100,\n        \"samples\": [\n          \"261-19-9827\",\n          \"519-44-2272\",\n          \"462-13-4733\"\n        ],\n        \"semantic_type\": \"\",\n        \"description\": \"\"\n      }\n    },\n    {\n      \"column\": \"PatientID\",\n      \"properties\": {\n        \"dtype\": \"number\",\n        \"std\": 29,\n        \"min\": 1000,\n        \"max\": 1099,\n        \"num_unique_values\": 100,\n        \"samples\": [\n          1083,\n          1053,\n          1070\n        ],\n        \"semantic_type\": \"\",\n        \"description\": \"\"\n      }\n    },\n    {\n      \"column\": \"Phone\",\n      \"properties\": {\n        \"dtype\": \"string\",\n        \"num_unique_values\": 100,\n        \"samples\": [\n          \"+34 919670475\",\n          \"+34742 813 417\",\n          \"+34727 71 20 69\"\n        ],\n        \"semantic_type\": \"\",\n        \"description\": \"\"\n      }\n    }\n  ]\n}"
            }
          },
          "metadata": {},
          "execution_count": 5
        }
      ],
      "source": [
        "pii_columns = ['PatientName', 'SSN', 'PatientID', 'Phone']\n",
        "health_data = health_data[pii_columns]\n",
        "health_data.head()"
      ]
    },
    {
      "cell_type": "markdown",
      "metadata": {
        "id": "r1805n3v9yhw"
      },
      "source": [
        "# K-Anonymity"
      ]
    },
    {
      "cell_type": "markdown",
      "metadata": {
        "id": "-MsCXZIl8Zc0"
      },
      "source": [
        "## Checking K-Anonymity [ 2 pts ]\n",
        "\n",
        "**[ 1.5 pts ]** Create a function which checks whether the data sastifies k-anonimity given some quasi-identifiers. Also return the maximum k for which the quasi-identifiers satisfy k-anonymity."
      ]
    },
    {
      "cell_type": "code",
      "execution_count": 6,
      "metadata": {
        "id": "qIYqUrOo8Zc0"
      },
      "outputs": [],
      "source": [
        "def is_k_anonymous(data, quasi_identifiers):\n",
        "    \"\"\"\n",
        "    Determines whether the data is k-anonymous quasi-identifiers\n",
        "    and the maximum k for which k-anonymity is satisfied.\n",
        "\n",
        "    Args:\n",
        "        data (pandas.DataFrame): microdata\n",
        "        quasi_identifiers (list): quasi-identifiers in microdata\n",
        "\n",
        "    Returns:\n",
        "        bool: indicating whether the data is k-anonymous\n",
        "        int: maximum k for which k-anonymity is satisfied\n",
        "    \"\"\"\n",
        "    # Your code here\n",
        "    return True, 1"
      ]
    },
    {
      "cell_type": "markdown",
      "metadata": {
        "id": "a-WVEYmI8Zc0"
      },
      "source": [
        "**[ 0.25 pts ]** Is the data k-anonymous for BirthDate and ZipCode? If so, what is the maximum k for which k-anonymity is satisfied?"
      ]
    },
    {
      "cell_type": "code",
      "execution_count": 7,
      "metadata": {
        "id": "fJRuVyib8Zc0"
      },
      "outputs": [],
      "source": [
        "# Your code here"
      ]
    },
    {
      "cell_type": "markdown",
      "metadata": {
        "id": "zkPLdqqY8Zc0"
      },
      "source": [
        "**[ 0.25 pts ]** Is the data k-anonymous for Gender and ZipCode? If so, what is the maximum k for which k-anonymity is satisfied?"
      ]
    },
    {
      "cell_type": "code",
      "execution_count": 8,
      "metadata": {
        "id": "rNrFAtB58Zc0"
      },
      "outputs": [],
      "source": [
        "# Your code here"
      ]
    },
    {
      "cell_type": "markdown",
      "metadata": {
        "id": "g4Tn2Q9I8Zc0"
      },
      "source": [
        "## Testing K-Anonimity [ 1 pts ]\n",
        "\n",
        "To test our function, we will use a dataset from the example given in the [K-Anonymity article](https://en.wikipedia.org/wiki/K-anonymity) on Wikipedia and satisfies 2-anonymity for any combination of the attributes ``Age``, ``Gender`` and ``State of domicile``."
      ]
    },
    {
      "cell_type": "code",
      "execution_count": 9,
      "metadata": {
        "colab": {
          "base_uri": "https://localhost:8080/",
          "height": 359
        },
        "id": "yMU-ThrT8Zc0",
        "outputId": "41766939-2532-47e5-abed-c982baa04d1a"
      },
      "outputs": [
        {
          "output_type": "execute_result",
          "data": {
            "text/plain": [
              "  Name            Age  Gender  Height Weight State of domicile Religion  \\\n",
              "0    *  20 < Age ≤ 30  Female  165 cm  72 kg        Tamil Nadu        *   \n",
              "1    *  20 < Age ≤ 30  Female  162 cm  70 kg            Kerala        *   \n",
              "2    *  20 < Age ≤ 30  Female  170 cm  68 kg        Tamil Nadu        *   \n",
              "3    *  20 < Age ≤ 30    Male  170 cm  75 kg         Karnataka        *   \n",
              "4    *  20 < Age ≤ 30  Female  165 cm  71 kg            Kerala        *   \n",
              "5    *  20 < Age ≤ 30    Male  160 cm  69 kg         Karnataka        *   \n",
              "6    *       Age ≤ 20    Male  167 cm  85 kg            Kerala        *   \n",
              "7    *  20 < Age ≤ 30    Male  180 cm  81 kg         Karnataka        *   \n",
              "8    *       Age ≤ 20    Male  175 cm  79 kg            Kerala        *   \n",
              "9    *       Age ≤ 20    Male  169 cm  82 kg            Kerala        *   \n",
              "\n",
              "           Disease  \n",
              "0           Cancer  \n",
              "1  Viral infection  \n",
              "2     Tuberculosis  \n",
              "3       No illness  \n",
              "4    Heart-related  \n",
              "5     Tuberculosis  \n",
              "6           Cancer  \n",
              "7    Heart-related  \n",
              "8    Heart-related  \n",
              "9  Viral infection  "
            ],
            "text/html": [
              "\n",
              "  <div id=\"df-4fbbb2de-5a4f-43a3-b210-4424275bad48\" class=\"colab-df-container\">\n",
              "    <div>\n",
              "<style scoped>\n",
              "    .dataframe tbody tr th:only-of-type {\n",
              "        vertical-align: middle;\n",
              "    }\n",
              "\n",
              "    .dataframe tbody tr th {\n",
              "        vertical-align: top;\n",
              "    }\n",
              "\n",
              "    .dataframe thead th {\n",
              "        text-align: right;\n",
              "    }\n",
              "</style>\n",
              "<table border=\"1\" class=\"dataframe\">\n",
              "  <thead>\n",
              "    <tr style=\"text-align: right;\">\n",
              "      <th></th>\n",
              "      <th>Name</th>\n",
              "      <th>Age</th>\n",
              "      <th>Gender</th>\n",
              "      <th>Height</th>\n",
              "      <th>Weight</th>\n",
              "      <th>State of domicile</th>\n",
              "      <th>Religion</th>\n",
              "      <th>Disease</th>\n",
              "    </tr>\n",
              "  </thead>\n",
              "  <tbody>\n",
              "    <tr>\n",
              "      <th>0</th>\n",
              "      <td>*</td>\n",
              "      <td>20 &lt; Age ≤ 30</td>\n",
              "      <td>Female</td>\n",
              "      <td>165 cm</td>\n",
              "      <td>72 kg</td>\n",
              "      <td>Tamil Nadu</td>\n",
              "      <td>*</td>\n",
              "      <td>Cancer</td>\n",
              "    </tr>\n",
              "    <tr>\n",
              "      <th>1</th>\n",
              "      <td>*</td>\n",
              "      <td>20 &lt; Age ≤ 30</td>\n",
              "      <td>Female</td>\n",
              "      <td>162 cm</td>\n",
              "      <td>70 kg</td>\n",
              "      <td>Kerala</td>\n",
              "      <td>*</td>\n",
              "      <td>Viral infection</td>\n",
              "    </tr>\n",
              "    <tr>\n",
              "      <th>2</th>\n",
              "      <td>*</td>\n",
              "      <td>20 &lt; Age ≤ 30</td>\n",
              "      <td>Female</td>\n",
              "      <td>170 cm</td>\n",
              "      <td>68 kg</td>\n",
              "      <td>Tamil Nadu</td>\n",
              "      <td>*</td>\n",
              "      <td>Tuberculosis</td>\n",
              "    </tr>\n",
              "    <tr>\n",
              "      <th>3</th>\n",
              "      <td>*</td>\n",
              "      <td>20 &lt; Age ≤ 30</td>\n",
              "      <td>Male</td>\n",
              "      <td>170 cm</td>\n",
              "      <td>75 kg</td>\n",
              "      <td>Karnataka</td>\n",
              "      <td>*</td>\n",
              "      <td>No illness</td>\n",
              "    </tr>\n",
              "    <tr>\n",
              "      <th>4</th>\n",
              "      <td>*</td>\n",
              "      <td>20 &lt; Age ≤ 30</td>\n",
              "      <td>Female</td>\n",
              "      <td>165 cm</td>\n",
              "      <td>71 kg</td>\n",
              "      <td>Kerala</td>\n",
              "      <td>*</td>\n",
              "      <td>Heart-related</td>\n",
              "    </tr>\n",
              "    <tr>\n",
              "      <th>5</th>\n",
              "      <td>*</td>\n",
              "      <td>20 &lt; Age ≤ 30</td>\n",
              "      <td>Male</td>\n",
              "      <td>160 cm</td>\n",
              "      <td>69 kg</td>\n",
              "      <td>Karnataka</td>\n",
              "      <td>*</td>\n",
              "      <td>Tuberculosis</td>\n",
              "    </tr>\n",
              "    <tr>\n",
              "      <th>6</th>\n",
              "      <td>*</td>\n",
              "      <td>Age ≤ 20</td>\n",
              "      <td>Male</td>\n",
              "      <td>167 cm</td>\n",
              "      <td>85 kg</td>\n",
              "      <td>Kerala</td>\n",
              "      <td>*</td>\n",
              "      <td>Cancer</td>\n",
              "    </tr>\n",
              "    <tr>\n",
              "      <th>7</th>\n",
              "      <td>*</td>\n",
              "      <td>20 &lt; Age ≤ 30</td>\n",
              "      <td>Male</td>\n",
              "      <td>180 cm</td>\n",
              "      <td>81 kg</td>\n",
              "      <td>Karnataka</td>\n",
              "      <td>*</td>\n",
              "      <td>Heart-related</td>\n",
              "    </tr>\n",
              "    <tr>\n",
              "      <th>8</th>\n",
              "      <td>*</td>\n",
              "      <td>Age ≤ 20</td>\n",
              "      <td>Male</td>\n",
              "      <td>175 cm</td>\n",
              "      <td>79 kg</td>\n",
              "      <td>Kerala</td>\n",
              "      <td>*</td>\n",
              "      <td>Heart-related</td>\n",
              "    </tr>\n",
              "    <tr>\n",
              "      <th>9</th>\n",
              "      <td>*</td>\n",
              "      <td>Age ≤ 20</td>\n",
              "      <td>Male</td>\n",
              "      <td>169 cm</td>\n",
              "      <td>82 kg</td>\n",
              "      <td>Kerala</td>\n",
              "      <td>*</td>\n",
              "      <td>Viral infection</td>\n",
              "    </tr>\n",
              "  </tbody>\n",
              "</table>\n",
              "</div>\n",
              "    <div class=\"colab-df-buttons\">\n",
              "\n",
              "  <div class=\"colab-df-container\">\n",
              "    <button class=\"colab-df-convert\" onclick=\"convertToInteractive('df-4fbbb2de-5a4f-43a3-b210-4424275bad48')\"\n",
              "            title=\"Convert this dataframe to an interactive table.\"\n",
              "            style=\"display:none;\">\n",
              "\n",
              "  <svg xmlns=\"http://www.w3.org/2000/svg\" height=\"24px\" viewBox=\"0 -960 960 960\">\n",
              "    <path d=\"M120-120v-720h720v720H120Zm60-500h600v-160H180v160Zm220 220h160v-160H400v160Zm0 220h160v-160H400v160ZM180-400h160v-160H180v160Zm440 0h160v-160H620v160ZM180-180h160v-160H180v160Zm440 0h160v-160H620v160Z\"/>\n",
              "  </svg>\n",
              "    </button>\n",
              "\n",
              "  <style>\n",
              "    .colab-df-container {\n",
              "      display:flex;\n",
              "      gap: 12px;\n",
              "    }\n",
              "\n",
              "    .colab-df-convert {\n",
              "      background-color: #E8F0FE;\n",
              "      border: none;\n",
              "      border-radius: 50%;\n",
              "      cursor: pointer;\n",
              "      display: none;\n",
              "      fill: #1967D2;\n",
              "      height: 32px;\n",
              "      padding: 0 0 0 0;\n",
              "      width: 32px;\n",
              "    }\n",
              "\n",
              "    .colab-df-convert:hover {\n",
              "      background-color: #E2EBFA;\n",
              "      box-shadow: 0px 1px 2px rgba(60, 64, 67, 0.3), 0px 1px 3px 1px rgba(60, 64, 67, 0.15);\n",
              "      fill: #174EA6;\n",
              "    }\n",
              "\n",
              "    .colab-df-buttons div {\n",
              "      margin-bottom: 4px;\n",
              "    }\n",
              "\n",
              "    [theme=dark] .colab-df-convert {\n",
              "      background-color: #3B4455;\n",
              "      fill: #D2E3FC;\n",
              "    }\n",
              "\n",
              "    [theme=dark] .colab-df-convert:hover {\n",
              "      background-color: #434B5C;\n",
              "      box-shadow: 0px 1px 3px 1px rgba(0, 0, 0, 0.15);\n",
              "      filter: drop-shadow(0px 1px 2px rgba(0, 0, 0, 0.3));\n",
              "      fill: #FFFFFF;\n",
              "    }\n",
              "  </style>\n",
              "\n",
              "    <script>\n",
              "      const buttonEl =\n",
              "        document.querySelector('#df-4fbbb2de-5a4f-43a3-b210-4424275bad48 button.colab-df-convert');\n",
              "      buttonEl.style.display =\n",
              "        google.colab.kernel.accessAllowed ? 'block' : 'none';\n",
              "\n",
              "      async function convertToInteractive(key) {\n",
              "        const element = document.querySelector('#df-4fbbb2de-5a4f-43a3-b210-4424275bad48');\n",
              "        const dataTable =\n",
              "          await google.colab.kernel.invokeFunction('convertToInteractive',\n",
              "                                                    [key], {});\n",
              "        if (!dataTable) return;\n",
              "\n",
              "        const docLinkHtml = 'Like what you see? Visit the ' +\n",
              "          '<a target=\"_blank\" href=https://colab.research.google.com/notebooks/data_table.ipynb>data table notebook</a>'\n",
              "          + ' to learn more about interactive tables.';\n",
              "        element.innerHTML = '';\n",
              "        dataTable['output_type'] = 'display_data';\n",
              "        await google.colab.output.renderOutput(dataTable, element);\n",
              "        const docLink = document.createElement('div');\n",
              "        docLink.innerHTML = docLinkHtml;\n",
              "        element.appendChild(docLink);\n",
              "      }\n",
              "    </script>\n",
              "  </div>\n",
              "\n",
              "\n",
              "<div id=\"df-bb66dd0c-ed95-4c94-9a8c-4bde2e0e3a74\">\n",
              "  <button class=\"colab-df-quickchart\" onclick=\"quickchart('df-bb66dd0c-ed95-4c94-9a8c-4bde2e0e3a74')\"\n",
              "            title=\"Suggest charts\"\n",
              "            style=\"display:none;\">\n",
              "\n",
              "<svg xmlns=\"http://www.w3.org/2000/svg\" height=\"24px\"viewBox=\"0 0 24 24\"\n",
              "     width=\"24px\">\n",
              "    <g>\n",
              "        <path d=\"M19 3H5c-1.1 0-2 .9-2 2v14c0 1.1.9 2 2 2h14c1.1 0 2-.9 2-2V5c0-1.1-.9-2-2-2zM9 17H7v-7h2v7zm4 0h-2V7h2v10zm4 0h-2v-4h2v4z\"/>\n",
              "    </g>\n",
              "</svg>\n",
              "  </button>\n",
              "\n",
              "<style>\n",
              "  .colab-df-quickchart {\n",
              "      --bg-color: #E8F0FE;\n",
              "      --fill-color: #1967D2;\n",
              "      --hover-bg-color: #E2EBFA;\n",
              "      --hover-fill-color: #174EA6;\n",
              "      --disabled-fill-color: #AAA;\n",
              "      --disabled-bg-color: #DDD;\n",
              "  }\n",
              "\n",
              "  [theme=dark] .colab-df-quickchart {\n",
              "      --bg-color: #3B4455;\n",
              "      --fill-color: #D2E3FC;\n",
              "      --hover-bg-color: #434B5C;\n",
              "      --hover-fill-color: #FFFFFF;\n",
              "      --disabled-bg-color: #3B4455;\n",
              "      --disabled-fill-color: #666;\n",
              "  }\n",
              "\n",
              "  .colab-df-quickchart {\n",
              "    background-color: var(--bg-color);\n",
              "    border: none;\n",
              "    border-radius: 50%;\n",
              "    cursor: pointer;\n",
              "    display: none;\n",
              "    fill: var(--fill-color);\n",
              "    height: 32px;\n",
              "    padding: 0;\n",
              "    width: 32px;\n",
              "  }\n",
              "\n",
              "  .colab-df-quickchart:hover {\n",
              "    background-color: var(--hover-bg-color);\n",
              "    box-shadow: 0 1px 2px rgba(60, 64, 67, 0.3), 0 1px 3px 1px rgba(60, 64, 67, 0.15);\n",
              "    fill: var(--button-hover-fill-color);\n",
              "  }\n",
              "\n",
              "  .colab-df-quickchart-complete:disabled,\n",
              "  .colab-df-quickchart-complete:disabled:hover {\n",
              "    background-color: var(--disabled-bg-color);\n",
              "    fill: var(--disabled-fill-color);\n",
              "    box-shadow: none;\n",
              "  }\n",
              "\n",
              "  .colab-df-spinner {\n",
              "    border: 2px solid var(--fill-color);\n",
              "    border-color: transparent;\n",
              "    border-bottom-color: var(--fill-color);\n",
              "    animation:\n",
              "      spin 1s steps(1) infinite;\n",
              "  }\n",
              "\n",
              "  @keyframes spin {\n",
              "    0% {\n",
              "      border-color: transparent;\n",
              "      border-bottom-color: var(--fill-color);\n",
              "      border-left-color: var(--fill-color);\n",
              "    }\n",
              "    20% {\n",
              "      border-color: transparent;\n",
              "      border-left-color: var(--fill-color);\n",
              "      border-top-color: var(--fill-color);\n",
              "    }\n",
              "    30% {\n",
              "      border-color: transparent;\n",
              "      border-left-color: var(--fill-color);\n",
              "      border-top-color: var(--fill-color);\n",
              "      border-right-color: var(--fill-color);\n",
              "    }\n",
              "    40% {\n",
              "      border-color: transparent;\n",
              "      border-right-color: var(--fill-color);\n",
              "      border-top-color: var(--fill-color);\n",
              "    }\n",
              "    60% {\n",
              "      border-color: transparent;\n",
              "      border-right-color: var(--fill-color);\n",
              "    }\n",
              "    80% {\n",
              "      border-color: transparent;\n",
              "      border-right-color: var(--fill-color);\n",
              "      border-bottom-color: var(--fill-color);\n",
              "    }\n",
              "    90% {\n",
              "      border-color: transparent;\n",
              "      border-bottom-color: var(--fill-color);\n",
              "    }\n",
              "  }\n",
              "</style>\n",
              "\n",
              "  <script>\n",
              "    async function quickchart(key) {\n",
              "      const quickchartButtonEl =\n",
              "        document.querySelector('#' + key + ' button');\n",
              "      quickchartButtonEl.disabled = true;  // To prevent multiple clicks.\n",
              "      quickchartButtonEl.classList.add('colab-df-spinner');\n",
              "      try {\n",
              "        const charts = await google.colab.kernel.invokeFunction(\n",
              "            'suggestCharts', [key], {});\n",
              "      } catch (error) {\n",
              "        console.error('Error during call to suggestCharts:', error);\n",
              "      }\n",
              "      quickchartButtonEl.classList.remove('colab-df-spinner');\n",
              "      quickchartButtonEl.classList.add('colab-df-quickchart-complete');\n",
              "    }\n",
              "    (() => {\n",
              "      let quickchartButtonEl =\n",
              "        document.querySelector('#df-bb66dd0c-ed95-4c94-9a8c-4bde2e0e3a74 button');\n",
              "      quickchartButtonEl.style.display =\n",
              "        google.colab.kernel.accessAllowed ? 'block' : 'none';\n",
              "    })();\n",
              "  </script>\n",
              "</div>\n",
              "\n",
              "  <div id=\"id_d0c1ee9f-8ccc-41b4-ae69-82cfbcf076f9\">\n",
              "    <style>\n",
              "      .colab-df-generate {\n",
              "        background-color: #E8F0FE;\n",
              "        border: none;\n",
              "        border-radius: 50%;\n",
              "        cursor: pointer;\n",
              "        display: none;\n",
              "        fill: #1967D2;\n",
              "        height: 32px;\n",
              "        padding: 0 0 0 0;\n",
              "        width: 32px;\n",
              "      }\n",
              "\n",
              "      .colab-df-generate:hover {\n",
              "        background-color: #E2EBFA;\n",
              "        box-shadow: 0px 1px 2px rgba(60, 64, 67, 0.3), 0px 1px 3px 1px rgba(60, 64, 67, 0.15);\n",
              "        fill: #174EA6;\n",
              "      }\n",
              "\n",
              "      [theme=dark] .colab-df-generate {\n",
              "        background-color: #3B4455;\n",
              "        fill: #D2E3FC;\n",
              "      }\n",
              "\n",
              "      [theme=dark] .colab-df-generate:hover {\n",
              "        background-color: #434B5C;\n",
              "        box-shadow: 0px 1px 3px 1px rgba(0, 0, 0, 0.15);\n",
              "        filter: drop-shadow(0px 1px 2px rgba(0, 0, 0, 0.3));\n",
              "        fill: #FFFFFF;\n",
              "      }\n",
              "    </style>\n",
              "    <button class=\"colab-df-generate\" onclick=\"generateWithVariable('wiki_data')\"\n",
              "            title=\"Generate code using this dataframe.\"\n",
              "            style=\"display:none;\">\n",
              "\n",
              "  <svg xmlns=\"http://www.w3.org/2000/svg\" height=\"24px\"viewBox=\"0 0 24 24\"\n",
              "       width=\"24px\">\n",
              "    <path d=\"M7,19H8.4L18.45,9,17,7.55,7,17.6ZM5,21V16.75L18.45,3.32a2,2,0,0,1,2.83,0l1.4,1.43a1.91,1.91,0,0,1,.58,1.4,1.91,1.91,0,0,1-.58,1.4L9.25,21ZM18.45,9,17,7.55Zm-12,3A5.31,5.31,0,0,0,4.9,8.1,5.31,5.31,0,0,0,1,6.5,5.31,5.31,0,0,0,4.9,4.9,5.31,5.31,0,0,0,6.5,1,5.31,5.31,0,0,0,8.1,4.9,5.31,5.31,0,0,0,12,6.5,5.46,5.46,0,0,0,6.5,12Z\"/>\n",
              "  </svg>\n",
              "    </button>\n",
              "    <script>\n",
              "      (() => {\n",
              "      const buttonEl =\n",
              "        document.querySelector('#id_d0c1ee9f-8ccc-41b4-ae69-82cfbcf076f9 button.colab-df-generate');\n",
              "      buttonEl.style.display =\n",
              "        google.colab.kernel.accessAllowed ? 'block' : 'none';\n",
              "\n",
              "      buttonEl.onclick = () => {\n",
              "        google.colab.notebook.generateWithVariable('wiki_data');\n",
              "      }\n",
              "      })();\n",
              "    </script>\n",
              "  </div>\n",
              "\n",
              "    </div>\n",
              "  </div>\n"
            ],
            "application/vnd.google.colaboratory.intrinsic+json": {
              "type": "dataframe",
              "variable_name": "wiki_data",
              "summary": "{\n  \"name\": \"wiki_data\",\n  \"rows\": 10,\n  \"fields\": [\n    {\n      \"column\": \"Name\",\n      \"properties\": {\n        \"dtype\": \"category\",\n        \"num_unique_values\": 1,\n        \"samples\": [\n          \"*\"\n        ],\n        \"semantic_type\": \"\",\n        \"description\": \"\"\n      }\n    },\n    {\n      \"column\": \"Age\",\n      \"properties\": {\n        \"dtype\": \"category\",\n        \"num_unique_values\": 2,\n        \"samples\": [\n          \"Age \\u2264 20\"\n        ],\n        \"semantic_type\": \"\",\n        \"description\": \"\"\n      }\n    },\n    {\n      \"column\": \"Gender\",\n      \"properties\": {\n        \"dtype\": \"category\",\n        \"num_unique_values\": 2,\n        \"samples\": [\n          \"Male\"\n        ],\n        \"semantic_type\": \"\",\n        \"description\": \"\"\n      }\n    },\n    {\n      \"column\": \"Height\",\n      \"properties\": {\n        \"dtype\": \"string\",\n        \"num_unique_values\": 8,\n        \"samples\": [\n          \"162\\u00a0cm\"\n        ],\n        \"semantic_type\": \"\",\n        \"description\": \"\"\n      }\n    },\n    {\n      \"column\": \"Weight\",\n      \"properties\": {\n        \"dtype\": \"string\",\n        \"num_unique_values\": 10,\n        \"samples\": [\n          \"79\\u00a0kg\"\n        ],\n        \"semantic_type\": \"\",\n        \"description\": \"\"\n      }\n    },\n    {\n      \"column\": \"State of domicile\",\n      \"properties\": {\n        \"dtype\": \"category\",\n        \"num_unique_values\": 3,\n        \"samples\": [\n          \"Tamil Nadu\"\n        ],\n        \"semantic_type\": \"\",\n        \"description\": \"\"\n      }\n    },\n    {\n      \"column\": \"Religion\",\n      \"properties\": {\n        \"dtype\": \"category\",\n        \"num_unique_values\": 1,\n        \"samples\": [\n          \"*\"\n        ],\n        \"semantic_type\": \"\",\n        \"description\": \"\"\n      }\n    },\n    {\n      \"column\": \"Disease\",\n      \"properties\": {\n        \"dtype\": \"string\",\n        \"num_unique_values\": 5,\n        \"samples\": [\n          \"Viral infection\"\n        ],\n        \"semantic_type\": \"\",\n        \"description\": \"\"\n      }\n    }\n  ]\n}"
            }
          },
          "metadata": {},
          "execution_count": 9
        }
      ],
      "source": [
        "wiki_data = pd.read_html(\"https://en.wikipedia.org/wiki/K-anonymity\",header=0)[1]\n",
        "wiki_data"
      ]
    },
    {
      "cell_type": "markdown",
      "metadata": {
        "id": "km_cYixC8Zc0"
      },
      "source": [
        "**[ 1 pts ]** Test k-anonimity for the three attributes and their different combinations picking two attributes at a time. For each combination, find the maximum k satisfying k-anonymity."
      ]
    },
    {
      "cell_type": "code",
      "execution_count": 10,
      "metadata": {
        "id": "h-_x4kR18Zc1"
      },
      "outputs": [],
      "source": [
        "## Your code here"
      ]
    },
    {
      "cell_type": "markdown",
      "metadata": {
        "id": "rOVlKCfm8Zc1"
      },
      "source": [
        "## Properties of K-Anonymity [ 1 pts ]\n",
        "> You may use examples from the previous exercises."
      ]
    },
    {
      "cell_type": "markdown",
      "metadata": {
        "id": "ymaJyK8G8Zc1"
      },
      "source": [
        "**[ 0.5 pts ]** If a dataset is $k_1$-anonymous for a set of attributes, and $k_2$-anonymous for any subset of those attributes, what is the relationship between $k_1$ and $k_2$? Can you show an example?"
      ]
    },
    {
      "cell_type": "markdown",
      "metadata": {
        "id": "CG2mwiLr8Zc1"
      },
      "source": [
        "**[ Answer ]**"
      ]
    },
    {
      "cell_type": "markdown",
      "metadata": {
        "id": "xbliaPrp8Zc1"
      },
      "source": [
        "**[ 0.5 pts ]** If a dataset is $k_1$-anonymous given an attribute $a_1$, and $k_2$-anonymous given an attribute $a_2$, is the dataset always $k$-anonymous given attributes $\\{a_1,a_2\\}$ ? If not, show an example, and find the maximum $k$ for which the dataset can be $k$-anonymous."
      ]
    },
    {
      "cell_type": "markdown",
      "metadata": {
        "id": "W3CSPLiJ8Zc1"
      },
      "source": [
        "**[ Answer ]**"
      ]
    },
    {
      "cell_type": "markdown",
      "metadata": {
        "id": "eK377hos8Zc1"
      },
      "source": [
        "## Methods for K-Anonymity [ 5 pts ]"
      ]
    },
    {
      "cell_type": "markdown",
      "metadata": {
        "id": "C3X5qYdq8Zc1"
      },
      "source": [
        "### GLOBAL Recoding (Generalization)"
      ]
    },
    {
      "cell_type": "markdown",
      "metadata": {
        "id": "qdrOkRAR8Zc1"
      },
      "source": [
        "**[ 0.25 pts ]** Create a function which applies **global recoding** to an attribute in the data upto $n$ digits."
      ]
    },
    {
      "cell_type": "code",
      "execution_count": 11,
      "metadata": {
        "id": "ePnvxHAW8Zc1"
      },
      "outputs": [],
      "source": [
        "def global_recoding(data, attribute, n):\n",
        "    \"\"\"\n",
        "    applies global recoding to an attribute in the data for n digits\n",
        "\n",
        "    Args:\n",
        "        data (pandas.DataFrame): data for anonymization\n",
        "        attribute (str): attribute to be recoded\n",
        "        n (int): number of digits to be recoded\n",
        "\n",
        "    Returns:\n",
        "        pandas.DataFrame: globally recoded data\n",
        "    \"\"\"\n",
        "    # your code here"
      ]
    },
    {
      "cell_type": "markdown",
      "metadata": {
        "id": "2-tflo5U8Zc2"
      },
      "source": [
        "**[ 0.75 pts ]** Use the function to list all possible ways of 3-anonymizing the dataset given attributes ``BirthDate`` and ``ZipCode``. What is the best way of 3-anonymizing the dataset if we want to preserve maximum information about the health conditions across different zip codes?"
      ]
    },
    {
      "cell_type": "markdown",
      "metadata": {
        "id": "GdNWyk4V8Zc6"
      },
      "source": [
        "**[ Answer ]**"
      ]
    },
    {
      "cell_type": "code",
      "execution_count": 12,
      "metadata": {
        "id": "NU1FLYz_8Zc6"
      },
      "outputs": [],
      "source": [
        "# your code here"
      ]
    },
    {
      "cell_type": "markdown",
      "metadata": {
        "id": "TLqOFfOb8Zc7"
      },
      "source": [
        "**[ 1 pts ]** For the best way of $3$-anonymizing the dataset from last question, comment on the sufficiency of $k$-anonymity against **homogeneity** and **internal** attacks aimed at inferring the health condition of patients. If you find $k$-anonymity to be insufficient, you must show quasi-identifier equivalence classes (groups) susceptible to the attacks."
      ]
    },
    {
      "cell_type": "code",
      "execution_count": 13,
      "metadata": {
        "id": "B28A1V6y8Zc7"
      },
      "outputs": [],
      "source": [
        "# your code here"
      ]
    },
    {
      "cell_type": "code",
      "execution_count": 14,
      "metadata": {
        "id": "nJiVut6k8Zc7"
      },
      "outputs": [],
      "source": [
        "# your code here"
      ]
    },
    {
      "cell_type": "markdown",
      "metadata": {
        "id": "ja4H_AOw8Zc7"
      },
      "source": [
        "### Microaggregation"
      ]
    },
    {
      "cell_type": "markdown",
      "metadata": {
        "id": "yZAi5FJX8Zc7"
      },
      "source": [
        "**[ 2 pts ]** Create a function which microaggregates continuous attributes (``height, weight``) to achieve $k$-anonymity, while minimizing the loss in information across both attributes. Return the best-possible $k$-anonymity and corresponding loss.\n",
        "\n",
        "**Recommended Approach**: Experiment with a clustering algorithm for $n \\leq \\frac{|Data|}{k}$ clusters to achieve $k$-anonymity, and use sum of squared errors between original and anonymized data for loss of information."
      ]
    },
    {
      "cell_type": "code",
      "execution_count": 15,
      "metadata": {
        "id": "jg_0nL1Z8Zc7"
      },
      "outputs": [],
      "source": [
        "def microaggregation(data,attributes,k):\n",
        "    \"\"\"\n",
        "    applies microaggregation to attributes in the data\n",
        "    to achieve k'-anonymity, k' >= k\n",
        "\n",
        "    Args:\n",
        "        data (pandas.DataFrame): data for anonymization\n",
        "        attributes (list): attributes to be microaggregated\n",
        "        k (int): lower bound of k-anonymity to achieve\n",
        "\n",
        "    Returns:\n",
        "        tuple:\n",
        "            float: loss of information to achieve k' anonymity\n",
        "            int: k' corresponding to k'-anonymity achieved\n",
        "    \"\"\"\n",
        "    return loss, observed_k"
      ]
    },
    {
      "cell_type": "markdown",
      "metadata": {
        "id": "lP4G5IIa8Zc7"
      },
      "source": [
        "**[ 1 pts ]** Plot the relationship between $k$-anonymity achieved v/s loss of information for $k \\in \\{2,3,4,...10\\}$. What do you observe?"
      ]
    },
    {
      "cell_type": "code",
      "execution_count": 16,
      "metadata": {
        "id": "JghQ4KMW8Zc7"
      },
      "outputs": [],
      "source": [
        "# your code here"
      ]
    },
    {
      "cell_type": "markdown",
      "metadata": {
        "id": "AjWrSIJS8Zc7"
      },
      "source": [
        "# L-Diversity"
      ]
    },
    {
      "cell_type": "markdown",
      "metadata": {
        "id": "kn_U0Yut-P6L"
      },
      "source": [
        "## Checking L-Diversity [ 1.5 pts ]"
      ]
    },
    {
      "cell_type": "markdown",
      "metadata": {
        "id": "qXHX_27G8Zc7"
      },
      "source": [
        "**[ 0.5 pts ]** Create a function which checks whether a dataset is l-diverse given a sensitive attribute and quasi-identifiers. If so, return the maximum-l for which the dataset satisfies l-diversity."
      ]
    },
    {
      "cell_type": "code",
      "execution_count": null,
      "metadata": {
        "id": "oBzIXn788Zc7"
      },
      "outputs": [],
      "source": [
        "def is_l_diverse(data, sensitive, quasi_identifiers):\n",
        "    \"\"\"\n",
        "    checks whether a data is l-diverse for a sensitive\n",
        "    attribute given quasi-identifiers, and returns the\n",
        "    maximum l for which the data satisfies l-diversity\n",
        "\n",
        "    Args:\n",
        "        data (pandas.DataFrame): data to check l-diversity for\n",
        "        sensitive (str): sensitive attribute for l-diversity\n",
        "        quasi_identifiers (list): list of quasi-identifiers\n",
        "\n",
        "    Returns:\n",
        "        tuple:\n",
        "            bool: indicating whether the data is l-diverse\n",
        "            int: maximum l for which the data satisfies l-diversity\n",
        "    \"\"\"\n",
        "    return True, l"
      ]
    },
    {
      "cell_type": "markdown",
      "metadata": {
        "id": "hlflK4Z58Zc8"
      },
      "source": [
        "> Answer the following questions for the original dataset, globally recoded dataset."
      ]
    },
    {
      "cell_type": "markdown",
      "metadata": {
        "id": "B6UC_AeSDMWK"
      },
      "source": [
        "**[ 0.5 pts ]** Is the dataset l-diverse given ``Health Condition`` as sensitive attribute and ``ZipCode, BirthDate`` as quasi-identifiers?"
      ]
    },
    {
      "cell_type": "code",
      "execution_count": null,
      "metadata": {
        "id": "0yxy67pyDR9t"
      },
      "outputs": [],
      "source": [
        "# your code here"
      ]
    },
    {
      "cell_type": "code",
      "execution_count": null,
      "metadata": {
        "id": "tGcCNsTsDSrR"
      },
      "outputs": [],
      "source": [
        "# your code here"
      ]
    },
    {
      "cell_type": "markdown",
      "metadata": {
        "id": "kWZRDNyb8Zc8"
      },
      "source": [
        "**[ 0.5 pts ]** Is the dataset l-diverse given ``Gender`` as sensitive attribute and ``ZipCode, BirthDate`` as quasi-identifiers?"
      ]
    },
    {
      "cell_type": "code",
      "execution_count": null,
      "metadata": {
        "id": "1k8OgpEz8Zc8"
      },
      "outputs": [],
      "source": [
        "# your code here"
      ]
    },
    {
      "cell_type": "code",
      "execution_count": null,
      "metadata": {
        "id": "I8d6Pk4r8Zc8"
      },
      "outputs": [],
      "source": [
        "# your code here"
      ]
    },
    {
      "cell_type": "markdown",
      "metadata": {
        "id": "ln2_GOHj8Zc8"
      },
      "source": [
        "## L-Diversity via Local Suppression [ 2 pts ]"
      ]
    },
    {
      "cell_type": "markdown",
      "metadata": {
        "id": "DNBB15na8Zc8"
      },
      "source": [
        "**[ 1 pts ]** Create a function to apply local suppression to groups within a $k$-anonymized dataset which violate $l$-diversity given a sensitive attribute, two quasi-identifiers, and $l$. If the same is not feasible, raise an error.\n"
      ]
    },
    {
      "cell_type": "code",
      "execution_count": null,
      "metadata": {
        "id": "gpWKOYnKFhFQ"
      },
      "outputs": [],
      "source": [
        "def local_suppression(data,sensitive,quasi_identifiers,l):\n",
        "    \"\"\"\n",
        "    locally suppresses quasi-identifier equivalence classes\n",
        "    in anonymized data which violate l-diversity so that the\n",
        "    overall data satisfies l-diversity\n",
        "\n",
        "    Args:\n",
        "        data (pandas.DataFrame): data for local suppression\n",
        "        sensitive (str): sensitive attribute for l-diversity\n",
        "        quasi_identifiers (list): quasi-identifiers to suppress\n",
        "        l (int): l-diversity constraint to satisfy\n",
        "\n",
        "    Returns:\n",
        "        pandas.DataFrame: locally suppressed data satisfying l-diversity\n",
        "    \"\"\"\n",
        "    # your code here\n",
        "    return data"
      ]
    },
    {
      "cell_type": "markdown",
      "metadata": {
        "id": "dk7q8PnsRIsA"
      },
      "source": [
        "**[ 0.5 pts ]** Using the function, make the globally recoded dataset $2$-diverse for sensitive attribute ``Health Condition`` given quasi_identifiers ``ZipCode``,``BirthDate``, and show the suppressed groups."
      ]
    },
    {
      "cell_type": "code",
      "execution_count": null,
      "metadata": {
        "id": "4wsyhCqu8Zc8"
      },
      "outputs": [],
      "source": [
        "# your code here"
      ]
    },
    {
      "cell_type": "code",
      "execution_count": null,
      "metadata": {
        "id": "hHWb0ibVLDNo"
      },
      "outputs": [],
      "source": [
        "# your code here"
      ]
    },
    {
      "cell_type": "markdown",
      "metadata": {
        "id": "Vlk1XwOcRwD_"
      },
      "source": [
        "**[ 0.5 pts ]** Using the function, make the globally recoded dataset $3$-diverse for sensitive attribute ``Gender`` given quasi_identifiers ``ZipCode``,``BirthDate``, and show the suppressed groups."
      ]
    },
    {
      "cell_type": "code",
      "execution_count": null,
      "metadata": {
        "id": "-dHcroBJ8t5g"
      },
      "outputs": [],
      "source": [
        "# your code here"
      ]
    },
    {
      "cell_type": "code",
      "execution_count": null,
      "metadata": {
        "id": "K5oOy99mIjzW"
      },
      "outputs": [],
      "source": [
        "# your code here"
      ]
    },
    {
      "cell_type": "markdown",
      "metadata": {
        "id": "zb-rq8_gVrHk"
      },
      "source": [
        "## Sufficiency of $k$-anonymity and $l$-diversity [ 1 pts ]"
      ]
    },
    {
      "cell_type": "markdown",
      "metadata": {
        "id": "w7Fk3tjJVrHk"
      },
      "source": [
        "**[ 1 pts ]** Describe one scenario where $k$-anonymity and $l$-diversity would be sufficient for guaranteeing the anonymity of a dataset, and one scenario where they will be insufficient. You may use tables to illustrate your answer."
      ]
    },
    {
      "cell_type": "markdown",
      "metadata": {
        "id": "le4ngVT4VrHk"
      },
      "source": [
        "**[ Answer ]**"
      ]
    }
  ],
  "metadata": {
    "colab": {
      "provenance": [],
      "toc_visible": true
    },
    "kernelspec": {
      "display_name": "base",
      "language": "python",
      "name": "python3"
    },
    "language_info": {
      "codemirror_mode": {
        "name": "ipython",
        "version": 3
      },
      "file_extension": ".py",
      "mimetype": "text/x-python",
      "name": "python",
      "nbconvert_exporter": "python",
      "pygments_lexer": "ipython3",
      "version": "3.8.19"
    }
  },
  "nbformat": 4,
  "nbformat_minor": 0
}